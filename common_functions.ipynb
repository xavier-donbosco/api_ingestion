{
 "cells": [
  {
   "cell_type": "code",
   "execution_count": 0,
   "metadata": {
    "application/vnd.databricks.v1+cell": {
     "cellMetadata": {
      "byteLimit": 2048000,
      "rowLimit": 10000
     },
     "inputWidgets": {},
     "nuid": "d1f982db-5261-4d7e-b051-7ceb8ea55797",
     "showTitle": true,
     "title": "Import Statements"
    }
   },
   "outputs": [
    {
     "output_type": "display_data",
     "data": {
      "text/html": [
       "<style scoped>\n",
       "  .ansiout {\n",
       "    display: block;\n",
       "    unicode-bidi: embed;\n",
       "    white-space: pre-wrap;\n",
       "    word-wrap: break-word;\n",
       "    word-break: break-all;\n",
       "    font-family: \"Menlo\", \"Monaco\", \"Consolas\", \"Ubuntu Mono\", \"Source Code Pro\", monospace;\n",
       "    font-size: 13px;\n",
       "    color: #555;\n",
       "    margin-left: 4px;\n",
       "    line-height: 19px;\n",
       "  }\n",
       "</style>\n",
       "<div class=\"ansiout\"></div>"
      ]
     },
     "metadata": {
      "application/vnd.databricks.v1+output": {
       "addedWidgets": {},
       "arguments": {},
       "data": "<div class=\"ansiout\"></div>",
       "datasetInfos": [],
       "metadata": {},
       "removedWidgets": [],
       "type": "html"
      }
     },
     "output_type": "display_data"
    }
   ],
   "source": [
    "import requests, zipfile, json, re, io, sys, time, logging\n",
    "from io import BytesIO"
   ]
  },
  {
   "cell_type": "code",
   "execution_count": 0,
   "metadata": {
    "application/vnd.databricks.v1+cell": {
     "cellMetadata": {},
     "inputWidgets": {},
     "nuid": "f0ee79a2-e111-4dd0-a88c-44b4d798a01b",
     "showTitle": false,
     "title": ""
    }
   },
   "outputs": [],
   "source": [
    "class GetDataWrite:\n",
    "  # get_access_token is a function which is used to get access token from the api\n",
    "  # @param -> url       -> url of the API\n",
    "  # @param -> user_name -> user name for the API\n",
    "  # @param -> password  -> password for the API\n",
    "  # It will return access token which we got from API\n",
    "  def get_access_token(url, user_name, password):\n",
    "    # code for generating access token\n",
    "    return access_token\n",
    "  \n",
    "  # binary_convert_csv is a function which is used to convert binary content to csv content\n",
    "  # @param -> requestDownload -> is the binary content\n",
    "  # It will return csv file name and the csv content\n",
    "  def binary_convert_csv(requestDownload):\n",
    "    zip_content = BytesIO(requestDownload.content)\n",
    "    with zipfile.ZipFile(zip_content, 'r') as zip_ref:\n",
    "        csv_file = zip_ref.namelist()[0]\n",
    "        csv_content = zip_ref.read(csv_file)\n",
    "    csv_content_str = csv_content.decode('utf-8')\n",
    "    return csv_file, csv_content_str\n",
    "  \n",
    "  # get_data is a function which is used to get the actual data from the API\n",
    "  # @param -> data_center -> is the name of the data center\n",
    "  # @param -> survey_id   -> is the survey id in which we have to get data\n",
    "  # @param -> headers     -> is the json header which we need to pass to API\n",
    "  # @param -> file_format -> is the file format in which we will be getting data from source\n",
    "  # @param -> data        -> is the json format data\n",
    "  def get_data(data_center, survey_id, headers, file_format, data):\n",
    "    # Setting static parameters\n",
    "    # Code for setting static parameters\n",
    "    # Step 2: Checking on Data Export Progress and waiting until export is ready\n",
    "    while progressStatus != \"complete\" and progressStatus != \"failed\" and isFile is None:\n",
    "        requestCheckUrl = url + progressId\n",
    "        requestCheckResponse = requests.request(\"GET\", requestCheckUrl, headers=headers)\n",
    "        requestCheckProgress = requestCheckResponse.json()[\"result\"][\"percentComplete\"]\n",
    "        progressStatus = requestCheckResponse.json()[\"result\"][\"status\"]\n",
    "    #step 2.1: Check for error\n",
    "    if progressStatus == \"failed\":\n",
    "        raise Exception(\"export failed\")\n",
    "    fileId = requestCheckResponse.json()[\"result\"][\"fileId\"]\n",
    "    # Step 3: Downloading file\n",
    "    requestDownloadUrl = url + fileId + '/file'\n",
    "    requestDownload = requests.request(\"GET\", requestDownloadUrl, headers=headers, stream=True)\n",
    "    return GetDataWrite.binary_convert_csv(requestDownload)\n",
    "  \n",
    "  # get_content_write is a functions which used to \n",
    "  # 1. Get csv converted content\n",
    "  # 2. Write the content which we got into the desired location\n",
    "  # @param -> survey_id   -> is the survey id from which we have to get data\n",
    "  # @param -> headers     -> is the headers to which we have to pass the API\n",
    "  # @param -> data        -> is the data which we have to pass to the API\n",
    "  # @param -> data_center -> is the data center which we have to pass to the API\n",
    "  # @param -> file_format -> is the file format which we have to pass to the API as well the file type which we are going to write data in ADLS\n",
    "  def get_content_write(survey_id, headers, data, data_center, file_format):\n",
    "    try:\n",
    "      # Actual code\n",
    "    except Exception as e:\n",
    "      logging.warning(f\"Error on the survey id : {survey_id} and the error is {e}\")\n",
    "\n",
    "  # binary_write is a function which is used to write the csv content into the given location with the given format\n",
    "  # @param -> file_name -> is the name of the file on which we will be saving the data\n",
    "  # @param -> file_path -> is the path where we will store the data\n",
    "  # @param -> file_type -> is the file type\n",
    "  # @param -> data      -> is the actual data which we will be storing\n",
    "  def binary_write(file_name, file_path, file_type, data):\n",
    "    # Code for writing the data\n",
    "    print(\"data written\")"
   ]
  }
 ],
 "metadata": {
  "application/vnd.databricks.v1+notebook": {
   "dashboards": [],
   "language": "python",
   "notebookMetadata": {
    "pythonIndentUnit": 2
   },
   "notebookName": "common_functions",
   "widgets": {}
  }
 },
 "nbformat": 4,
 "nbformat_minor": 0
}
